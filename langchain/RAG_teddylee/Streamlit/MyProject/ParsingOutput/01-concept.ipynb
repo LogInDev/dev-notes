{
 "cells": [
  {
   "cell_type": "code",
   "id": "initial_id",
   "metadata": {
    "collapsed": true,
    "ExecuteTime": {
     "end_time": "2025-10-04T05:51:12.358844Z",
     "start_time": "2025-10-04T05:51:12.355635Z"
    }
   },
   "source": [
    "from langchain_core.output_parsers import PydanticOutputParser\n",
    "\n",
    "email_conversation = \"\"\"From: 테디 (teddy@teddynote.com)\n",
    "To: 이은채 대리님 (eunchae@teddyinternational.me)\n",
    "Subject: RAG 솔루션 시연 관련 미팅 제안\n",
    "\n",
    "안녕하세요, 이은채 대리님,\n",
    "\n",
    "저는 테디노트의 테디입니다. 최근 귀사에서 AI를 활용한 혁신적인 솔루션을 모색 중이라는 소식을 들었습니다. 테디노트는 AI 및 RAG 솔루션 분야에서 다양한 경험과 노하우를 가진 기업으로, 귀사의 요구에 맞는 최적의 솔루션을 제공할 수 있다고 자부합니다.\n",
    "\n",
    "저희 테디노트의 RAG 솔루션은 귀사의 데이터 활용을 극대화하고, 실시간으로 정확한 정보 제공을 통해 비즈니스 의사결정을 지원하는 데 탁월한 성능을 보입니다. 이 솔루션은 특히 다양한 산업에서의 성공적인 적용 사례를 통해 그 효과를 입증하였습니다.\n",
    "\n",
    "귀사와의 협력 가능성을 논의하고, 저희 RAG 솔루션의 구체적인 기능과 적용 방안을 시연하기 위해 미팅을 제안드립니다. 다음 주 목요일(7월 18일) 오전 10시에 귀사 사무실에서 만나 뵐 수 있을까요?\n",
    "\n",
    "미팅 시간을 조율하기 어려우시다면, 편하신 다른 일정을 알려주시면 감사하겠습니다. 이은채 대리님과의 소중한 만남을 통해 상호 발전적인 논의가 이루어지길 기대합니다.\n",
    "\n",
    "감사합니다.\n",
    "\n",
    "테디\n",
    "테디노트 AI 솔루션팀\"\"\""
   ],
   "outputs": [],
   "execution_count": 1
  },
  {
   "metadata": {
    "ExecuteTime": {
     "end_time": "2025-10-04T06:15:07.456645Z",
     "start_time": "2025-10-04T06:15:07.453592Z"
    }
   },
   "cell_type": "code",
   "source": [
    "from pydantic import BaseModel, Field\n",
    "\n",
    "# 이메일 본문으로부터 주요 엔티티 추출\n",
    "class EmailSummary(BaseModel):\n",
    "    person: str = Field(description=\"메일을 보낸 사람\")\n",
    "    company: str = Field(description=\"메일을 보낸 사람의 회사 정보\")\n",
    "    email: str = Field(description=\"메일을 보낸 사람의 이메일 주소\")\n",
    "    subject: str = Field(description=\"메일 제목\")\n",
    "    summary: str = Field(description=\"메일 본문을 요약한 텍스트\")\n",
    "    date: str = Field(description=\"메일 본문에 언급된 미팅 날짜와 시간\")"
   ],
   "id": "1d614db35c83c863",
   "outputs": [],
   "execution_count": 27
  },
  {
   "metadata": {
    "ExecuteTime": {
     "end_time": "2025-10-04T05:52:43.948652Z",
     "start_time": "2025-10-04T05:52:43.947229Z"
    }
   },
   "cell_type": "code",
   "source": [
    "## LCEL 구조\n",
    "\n",
    "# chain = prompt | llm | output_parser\n"
   ],
   "id": "754eaae520883f93",
   "outputs": [],
   "execution_count": 4
  },
  {
   "metadata": {
    "ExecuteTime": {
     "end_time": "2025-10-04T05:55:20.691233Z",
     "start_time": "2025-10-04T05:55:20.680586Z"
    }
   },
   "cell_type": "code",
   "source": [
    "from dotenv import load_dotenv\n",
    "\n",
    "load_dotenv()"
   ],
   "id": "a59b4418d717e71b",
   "outputs": [
    {
     "data": {
      "text/plain": [
       "True"
      ]
     },
     "execution_count": 6,
     "metadata": {},
     "output_type": "execute_result"
    }
   ],
   "execution_count": 6
  },
  {
   "metadata": {
    "ExecuteTime": {
     "end_time": "2025-10-04T05:55:26.507697Z",
     "start_time": "2025-10-04T05:55:26.502862Z"
    }
   },
   "cell_type": "code",
   "source": [
    "# LangSmith 추적을 설정합니다. https://smith.langchain.com\n",
    "# !pip install langchain-teddynote\n",
    "from langchain_teddynote import logging\n",
    "\n",
    "# 프로젝트 이름을 입력합니다.\n",
    "logging.langsmith(\"CH03-OutputParser\")"
   ],
   "id": "242e39ac26220495",
   "outputs": [
    {
     "name": "stdout",
     "output_type": "stream",
     "text": [
      "LangSmith 추적을 시작합니다.\n",
      "[프로젝트명]\n",
      "CH03-OutputParser\n"
     ]
    }
   ],
   "execution_count": 7
  },
  {
   "metadata": {
    "ExecuteTime": {
     "end_time": "2025-10-04T05:55:32.364896Z",
     "start_time": "2025-10-04T05:55:28.233759Z"
    }
   },
   "cell_type": "code",
   "source": [
    "from langchain_openai import ChatOpenAI\n",
    "from langchain_teddynote.messages import stream_response\n",
    "import os\n",
    "\n",
    "llm = ChatOpenAI(\n",
    "    api_key=os.getenv(\"API_KEY\"),\n",
    "    base_url=os.getenv(\"BASE_URL\"),\n",
    "    model=os.getenv(\"BASE_MODEL\"),\n",
    "    temperature=0\n",
    ")\n",
    "\n",
    "answer = llm.stream(\"스위스이 수도가 어디야\")\n",
    "stream_response(answer)"
   ],
   "id": "778239118452f096",
   "outputs": [
    {
     "name": "stdout",
     "output_type": "stream",
     "text": [
      "스위스의 수도는 **베른(Bern)**입니다. 스위스 연방의 행정 중심지로, 아름다운 중세 도시로 유명하죠! 추가 질문 있으신가요?"
     ]
    }
   ],
   "execution_count": 8
  },
  {
   "metadata": {
    "ExecuteTime": {
     "end_time": "2025-10-04T06:15:14.369808Z",
     "start_time": "2025-10-04T06:15:14.366716Z"
    }
   },
   "cell_type": "code",
   "source": [
    "from langchain_core.output_parsers import PydanticOutputParser\n",
    "\n",
    "output_parser = PydanticOutputParser(pydantic_object=EmailSummary)\n",
    "output_parser.get_format_instructions()"
   ],
   "id": "8354af0b0cb02bfe",
   "outputs": [
    {
     "data": {
      "text/plain": [
       "'The output should be formatted as a JSON instance that conforms to the JSON schema below.\\n\\nAs an example, for the schema {\"properties\": {\"foo\": {\"title\": \"Foo\", \"description\": \"a list of strings\", \"type\": \"array\", \"items\": {\"type\": \"string\"}}}, \"required\": [\"foo\"]}\\nthe object {\"foo\": [\"bar\", \"baz\"]} is a well-formatted instance of the schema. The object {\"properties\": {\"foo\": [\"bar\", \"baz\"]}} is not well-formatted.\\n\\nHere is the output schema:\\n```\\n{\"properties\": {\"person\": {\"description\": \"메일을 보낸 사람\", \"title\": \"Person\", \"type\": \"string\"}, \"company\": {\"description\": \"메일을 보낸 사람의 회사 정보\", \"title\": \"Company\", \"type\": \"string\"}, \"email\": {\"description\": \"메일을 보낸 사람의 이메일 주소\", \"title\": \"Email\", \"type\": \"string\"}, \"subject\": {\"description\": \"메일 제목\", \"title\": \"Subject\", \"type\": \"string\"}, \"summary\": {\"description\": \"메일 본문을 요약한 텍스트\", \"title\": \"Summary\", \"type\": \"string\"}, \"date\": {\"description\": \"메일 본문에 언급된 미팅 날짜와 시간\", \"title\": \"Date\", \"type\": \"string\"}}, \"required\": [\"person\", \"company\", \"email\", \"subject\", \"summary\", \"date\"]}\\n```'"
      ]
     },
     "execution_count": 28,
     "metadata": {},
     "output_type": "execute_result"
    }
   ],
   "execution_count": 28
  },
  {
   "metadata": {
    "ExecuteTime": {
     "end_time": "2025-10-04T05:59:29.210845Z",
     "start_time": "2025-10-04T05:59:29.206662Z"
    }
   },
   "cell_type": "code",
   "source": [
    "from langchain_core.prompts import PromptTemplate\n",
    "\n",
    "prompt = PromptTemplate.from_template(\n",
    "    \"\"\"\n",
    "    You are a helpful assistant. Please answer the following questions in KOREAN.\n",
    "\n",
    "    #QUESTION:\n",
    "    다음의 이메일 내용 중에서 주요 내용을 추출해 주세요.\n",
    "\n",
    "    #EMAIL CONVERSATION:\n",
    "    {email_conversation}\n",
    "\n",
    "    #FORMAT:\n",
    "    {format}\n",
    "    \"\"\"\n",
    ")\n",
    "\n",
    "prompt = prompt.partial(format=output_parser.get_format_instructions())"
   ],
   "id": "8f8e4df1852c2880",
   "outputs": [],
   "execution_count": 14
  },
  {
   "metadata": {
    "ExecuteTime": {
     "end_time": "2025-10-04T06:15:21.007846Z",
     "start_time": "2025-10-04T06:15:21.006188Z"
    }
   },
   "cell_type": "code",
   "source": [
    "# 체인 생성\n",
    "chain = prompt | llm |output_parser"
   ],
   "id": "cf88650af5717a0d",
   "outputs": [],
   "execution_count": 29
  },
  {
   "metadata": {
    "ExecuteTime": {
     "end_time": "2025-10-04T06:15:28.396386Z",
     "start_time": "2025-10-04T06:15:23.131067Z"
    }
   },
   "cell_type": "code",
   "source": [
    "# 체인 실행\n",
    "answer = chain.invoke({\"email_conversation\": email_conversation})"
   ],
   "id": "7cb070148634f4c1",
   "outputs": [],
   "execution_count": 30
  },
  {
   "metadata": {
    "ExecuteTime": {
     "end_time": "2025-10-04T06:02:22.382870Z",
     "start_time": "2025-10-04T06:02:22.379778Z"
    }
   },
   "cell_type": "code",
   "source": "answer.person",
   "id": "3f70ec3b3e7bc73a",
   "outputs": [
    {
     "data": {
      "text/plain": [
       "'테디'"
      ]
     },
     "execution_count": 18,
     "metadata": {},
     "output_type": "execute_result"
    }
   ],
   "execution_count": 18
  },
  {
   "metadata": {
    "ExecuteTime": {
     "end_time": "2025-10-04T06:15:29.381887Z",
     "start_time": "2025-10-04T06:15:29.379843Z"
    }
   },
   "cell_type": "code",
   "source": "answer.company",
   "id": "d543ea5e8b09a8c6",
   "outputs": [
    {
     "data": {
      "text/plain": [
       "'테디노트'"
      ]
     },
     "execution_count": 31,
     "metadata": {},
     "output_type": "execute_result"
    }
   ],
   "execution_count": 31
  },
  {
   "metadata": {
    "ExecuteTime": {
     "end_time": "2025-10-04T06:15:58.641235Z",
     "start_time": "2025-10-04T06:15:58.638042Z"
    }
   },
   "cell_type": "code",
   "source": [
    "query = f\"{answer.person} {answer.company} {answer.email}\"\n",
    "query"
   ],
   "id": "bab022ee72dcf105",
   "outputs": [
    {
     "data": {
      "text/plain": [
       "'테디 테디노트 teddy@teddynote.com'"
      ]
     },
     "execution_count": 33,
     "metadata": {},
     "output_type": "execute_result"
    }
   ],
   "execution_count": 33
  },
  {
   "metadata": {
    "ExecuteTime": {
     "end_time": "2025-10-04T06:02:49.406245Z",
     "start_time": "2025-10-04T06:02:49.404661Z"
    }
   },
   "cell_type": "code",
   "source": "print(answer)",
   "id": "83d05107e3fe6ed5",
   "outputs": [
    {
     "name": "stdout",
     "output_type": "stream",
     "text": [
      "person='테디' phone_number='' company='테디노트' email='teddy@teddynote.com' subject='RAG 솔루션 시연 관련 미팅 제안' summary='테디노트의 테디가 이은채 대리에게 AI 및 RAG 솔루션의 경험을 소개하며, 귀사의 데이터 활용과 비즈니스 의사결정을 지원할 수 있음을 강조. RAG 솔루션의 기능과 적용 방안을 시연하기 위한 미팅을 제안하며, 다음 주 목요일(7월 18일) 오전 10시 귀사 사무실에서 만나자고 함. 다른 일정이 있으면 조율 가능.' date='다음 주 목요일(7월 18일) 오전 10시'\n"
     ]
    }
   ],
   "execution_count": 22
  },
  {
   "metadata": {},
   "cell_type": "markdown",
   "source": [
    "## 검색: SERP API\n",
    "\n",
    "참고: https://serpapi.com/integrations/python"
   ],
   "id": "c8c49911966d0bd4"
  },
  {
   "metadata": {
    "ExecuteTime": {
     "end_time": "2025-10-04T06:11:31.120975Z",
     "start_time": "2025-10-04T06:11:31.119349Z"
    }
   },
   "cell_type": "code",
   "source": [
    "import os\n",
    "\n",
    "os.environ[\"SERPAPI_API_KEY\"] = \"e03eb1a016c7c1d677d74fe7a4a6c5afb2972b4fb17421efaebf68b128249499\""
   ],
   "id": "a930298ce03bf0bb",
   "outputs": [],
   "execution_count": 23
  },
  {
   "metadata": {
    "ExecuteTime": {
     "end_time": "2025-10-04T06:13:23.084173Z",
     "start_time": "2025-10-04T06:13:23.071649Z"
    }
   },
   "cell_type": "code",
   "source": [
    "from langchain_community.utilities import SerpAPIWrapper\n",
    "\n",
    "params = {\"engine\": \"google\", \"gl\": \"kr\", \"hl\": \"ko\", \"num\": \"3\"}\n",
    "\n",
    "search = SerpAPIWrapper(params=params)"
   ],
   "id": "f6d87a1c11b803bc",
   "outputs": [],
   "execution_count": 24
  },
  {
   "metadata": {
    "ExecuteTime": {
     "end_time": "2025-10-04T06:16:18.520395Z",
     "start_time": "2025-10-04T06:16:18.470018Z"
    }
   },
   "cell_type": "code",
   "source": "search.run(\"테디노트 site:naver.com\")",
   "id": "58b4f1a3c16a08c0",
   "outputs": [
    {
     "data": {
      "text/plain": [
       "'[\\'패스트캠퍼스에서 진행 중인 테디노트의 RAG 비법노트를 덮썩 물었다. 코드잇이나 다른 교육 강좌에는 없어서 메리트가 있었다. \\\\u200b. \\\\u200b. 처음부터 패스트 ...\\', \"... 테디노트 (teddylee777.github.io)운영(\\'17년~현재) 전 - 삼성전자SCSA1기 - 삼성전자무선사업부삼성노트,테마,갤러리 앱개발 - C-LAB사내벤처독립및 ...\", \\'국내에선 테디노트가 이 영역의 영웅이나 다름 없는데, 비록 나는 테디노트로 공부를 하진 않았지만 그의 노력과 설명력을 여기서 꼭 칭송하고 싶다.\\']'"
      ]
     },
     "execution_count": 34,
     "metadata": {},
     "output_type": "execute_result"
    }
   ],
   "execution_count": 34
  },
  {
   "metadata": {
    "ExecuteTime": {
     "end_time": "2025-10-04T06:16:29.905962Z",
     "start_time": "2025-10-04T06:16:26.316042Z"
    }
   },
   "cell_type": "code",
   "source": "search.run(query)",
   "id": "a52012cdd7de9534",
   "outputs": [
    {
     "data": {
      "text/plain": [
       "'[\\'테디노트 X 패스트캠퍼스 \"RAG 비법노트\" · 환경 설정 (Mac) · 환경 설정 (Windows). LocalModels. GGUF · HuggingFace gguf 파일을 Ollama 로딩 · TeddyNote.\\', \\'문서 관리를 위한 메타데이터 태깅은 필수적이지만 번거로울 수 있습니다. OpenAI 기반의 자동화된 메타데이터 태깅 방법을 통해 이 과정을 효율적으로 만드는 방법을 알아 ...\\', \\'데이터 분석, 머신러닝, 딥러닝, LLM 에 대한 내용을 다룹니다. 연구보다는 개발에 관심이 많습니다 \\\\u200d♂️ ...more 데이터 분석, 머신러닝, 딥러닝, LLM 에 대한 내용을 ...\\']'"
      ]
     },
     "execution_count": 35,
     "metadata": {},
     "output_type": "execute_result"
    }
   ],
   "execution_count": 35
  },
  {
   "metadata": {
    "ExecuteTime": {
     "end_time": "2025-10-04T06:16:57.345917Z",
     "start_time": "2025-10-04T06:16:57.293750Z"
    }
   },
   "cell_type": "code",
   "source": "search_result = search.run(query)",
   "id": "e1f206af5f64f991",
   "outputs": [],
   "execution_count": 36
  },
  {
   "metadata": {
    "ExecuteTime": {
     "end_time": "2025-10-04T06:17:24.556269Z",
     "start_time": "2025-10-04T06:17:24.553849Z"
    }
   },
   "cell_type": "code",
   "source": "search_result = eval(search_result)",
   "id": "cc415c6138276b6b",
   "outputs": [],
   "execution_count": 38
  },
  {
   "metadata": {
    "ExecuteTime": {
     "end_time": "2025-10-04T06:17:33.445356Z",
     "start_time": "2025-10-04T06:17:33.443025Z"
    }
   },
   "cell_type": "code",
   "source": "type(search_result)",
   "id": "57b0f36df0107a27",
   "outputs": [
    {
     "data": {
      "text/plain": [
       "list"
      ]
     },
     "execution_count": 39,
     "metadata": {},
     "output_type": "execute_result"
    }
   ],
   "execution_count": 39
  },
  {
   "metadata": {
    "ExecuteTime": {
     "end_time": "2025-10-04T06:17:38.515926Z",
     "start_time": "2025-10-04T06:17:38.513065Z"
    }
   },
   "cell_type": "code",
   "source": "search_result[0]",
   "id": "652773f4f2d2fff7",
   "outputs": [
    {
     "data": {
      "text/plain": [
       "'테디노트 X 패스트캠퍼스 \"RAG 비법노트\" · 환경 설정 (Mac) · 환경 설정 (Windows). LocalModels. GGUF · HuggingFace gguf 파일을 Ollama 로딩 · TeddyNote.'"
      ]
     },
     "execution_count": 40,
     "metadata": {},
     "output_type": "execute_result"
    }
   ],
   "execution_count": 40
  },
  {
   "metadata": {},
   "cell_type": "code",
   "outputs": [],
   "execution_count": null,
   "source": "",
   "id": "7e35a84d2786f6d6"
  }
 ],
 "metadata": {
  "kernelspec": {
   "display_name": "Python 3",
   "language": "python",
   "name": "python3"
  },
  "language_info": {
   "codemirror_mode": {
    "name": "ipython",
    "version": 2
   },
   "file_extension": ".py",
   "mimetype": "text/x-python",
   "name": "python",
   "nbconvert_exporter": "python",
   "pygments_lexer": "ipython2",
   "version": "2.7.6"
  }
 },
 "nbformat": 4,
 "nbformat_minor": 5
}
